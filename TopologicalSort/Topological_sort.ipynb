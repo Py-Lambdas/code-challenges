{
  "nbformat": 4,
  "nbformat_minor": 0,
  "metadata": {
    "colab": {
      "name": "Topological sort.ipynb",
      "provenance": [],
      "authorship_tag": "ABX9TyOT3iU47hDNABv9Z1lNjmTi",
      "include_colab_link": true
    },
    "kernelspec": {
      "name": "python3",
      "display_name": "Python 3"
    }
  },
  "cells": [
    {
      "cell_type": "markdown",
      "metadata": {
        "id": "view-in-github",
        "colab_type": "text"
      },
      "source": [
        "<a href=\"https://colab.research.google.com/github/StevenBryceLee/code-challenges/blob/master/TopologicalSort/Topological_sort.ipynb\" target=\"_parent\"><img src=\"https://colab.research.google.com/assets/colab-badge.svg\" alt=\"Open In Colab\"/></a>"
      ]
    },
    {
      "cell_type": "code",
      "metadata": {
        "id": "iE-t4wgqEvPx",
        "colab_type": "code",
        "colab": {
          "base_uri": "https://localhost:8080/",
          "height": 34
        },
        "outputId": "8f34191b-3aab-4216-e67f-82659434ce1b"
      },
      "source": [
        "\"\"\"\n",
        "Topological Sort\n",
        "Difficulty: Hard\n",
        "Given a list of tasks and a list of dependencies return\n",
        "a list of tasks in valid order. If no such order exists\n",
        "return an empty array.\n",
        "tasks = [1,2,3,4]\n",
        "deps = [\n",
        "    [2, 3],\n",
        "    [2, 4],\n",
        "    [4, 3],\n",
        "    [1, 3],\n",
        "    [1, 4],\n",
        "]\n",
        "topological_sort(tasks, deps) = [1,2,3,4] or [2,1,3,4]\n",
        "Author: BrannanC\n",
        "\"\"\"\n",
        "\n",
        "import numpy as np\n",
        "def swap(arr,idx1,idx2):\n",
        "  #print('beforearr:\\t',arr,idx1,idx2)\n",
        "  temp = arr[idx2]\n",
        "  arr[idx2] = arr[idx1]\n",
        "  arr[idx1] = temp\n",
        "  #print('afterarr:\\t',arr)\n",
        "  return arr\n",
        "def topological_sort(tasks, deps):\n",
        "    tasks = np.array(tasks)\n",
        "    deps = np.array(deps)\n",
        "    #iterate through each dependency\n",
        "    for element in deps:\n",
        "      #Check if the dependency is after the dependent\n",
        "      if (np.where(tasks == element[0])[0][0]) > (np.where(tasks == element[1])[0][0]):\n",
        "        tasks = swap(tasks,(np.where(tasks == element[0])[0][0]),(np.where(tasks == element[1])[0][0]))\n",
        "        #print('tasks:\\t',tasks)\n",
        "    #Check if the test is satisfiable\n",
        "    for element in deps:\n",
        "      if (np.where(tasks == element[0])[0][0]) > (np.where(tasks == element[1])[0][0]):\n",
        "        return []\n",
        "    return tasks\n",
        "tasks = [1,2,3,4][::-1]\n",
        "deps = [\n",
        "    [2, 3],\n",
        "    [2, 4],\n",
        "    [4, 3],\n",
        "    [1, 3],\n",
        "    [1, 4],\n",
        "]\n",
        "\n",
        "topological_sort(tasks, deps)"
      ],
      "execution_count": 49,
      "outputs": [
        {
          "output_type": "execute_result",
          "data": {
            "text/plain": [
              "array([2, 1, 4, 3])"
            ]
          },
          "metadata": {
            "tags": []
          },
          "execution_count": 49
        }
      ]
    },
    {
      "cell_type": "code",
      "metadata": {
        "id": "xgDafEy7FMeY",
        "colab_type": "code",
        "colab": {}
      },
      "source": [
        "import numpy as np"
      ],
      "execution_count": 38,
      "outputs": []
    },
    {
      "cell_type": "code",
      "metadata": {
        "id": "Nad8oZK1FKvb",
        "colab_type": "code",
        "colab": {
          "base_uri": "https://localhost:8080/",
          "height": 102
        },
        "outputId": "fda14a97-6e96-4dc7-dd00-afc592c00574"
      },
      "source": [
        "deps = [\n",
        "    [2, 3],\n",
        "    [2, 4],\n",
        "    [4, 3],\n",
        "    [1, 3],\n",
        "    [1, 4],\n",
        "]\n",
        "deps = np.array(deps)\n",
        "print(deps)"
      ],
      "execution_count": 39,
      "outputs": [
        {
          "output_type": "stream",
          "text": [
            "[[2 3]\n",
            " [2 4]\n",
            " [4 3]\n",
            " [1 3]\n",
            " [1 4]]\n"
          ],
          "name": "stdout"
        }
      ]
    },
    {
      "cell_type": "code",
      "metadata": {
        "id": "FwrO2YmbFP8V",
        "colab_type": "code",
        "colab": {
          "base_uri": "https://localhost:8080/",
          "height": 34
        },
        "outputId": "f45e32f3-710c-4f56-f217-228faa46ba0c"
      },
      "source": [
        "set(deps[:,1])"
      ],
      "execution_count": 40,
      "outputs": [
        {
          "output_type": "execute_result",
          "data": {
            "text/plain": [
              "{3, 4}"
            ]
          },
          "metadata": {
            "tags": []
          },
          "execution_count": 40
        }
      ]
    },
    {
      "cell_type": "code",
      "metadata": {
        "id": "rLbev-YDFXap",
        "colab_type": "code",
        "colab": {
          "base_uri": "https://localhost:8080/",
          "height": 34
        },
        "outputId": "9893992c-ab99-4eeb-c791-5a8eadcbb86e"
      },
      "source": [
        "tasks = [1, 2, 3, 4, 5]\n",
        "deps = [[1, 3], \n",
        "        [2, 3], \n",
        "        [3, 4], \n",
        "        [2, 5], \n",
        "        [5, 4]]\n",
        "\n",
        "topological_sort(tasks, deps)"
      ],
      "execution_count": 41,
      "outputs": [
        {
          "output_type": "execute_result",
          "data": {
            "text/plain": [
              "array([1, 2, 3, 5, 4])"
            ]
          },
          "metadata": {
            "tags": []
          },
          "execution_count": 41
        }
      ]
    },
    {
      "cell_type": "code",
      "metadata": {
        "id": "h23AiIQyQw5v",
        "colab_type": "code",
        "colab": {
          "base_uri": "https://localhost:8080/",
          "height": 34
        },
        "outputId": "120df504-7892-4312-c4a4-5900dbe69b7e"
      },
      "source": [
        "tasks = [1, 2, 3, 4, 5, 6, 7, 8]\n",
        "deps = [[3, 1], \n",
        "        [8, 1], \n",
        "        [8, 7], \n",
        "        [5, 7], \n",
        "        [5, 2], \n",
        "        [1, 4], \n",
        "        [1, 6], \n",
        "        [1, 2], \n",
        "        [7, 6]]\n",
        "topological_sort(tasks, deps)"
      ],
      "execution_count": 42,
      "outputs": [
        {
          "output_type": "execute_result",
          "data": {
            "text/plain": [
              "array([3, 5, 8, 1, 2, 7, 6, 4])"
            ]
          },
          "metadata": {
            "tags": []
          },
          "execution_count": 42
        }
      ]
    },
    {
      "cell_type": "code",
      "metadata": {
        "id": "5ZoUJPh0RDMX",
        "colab_type": "code",
        "colab": {
          "base_uri": "https://localhost:8080/",
          "height": 34
        },
        "outputId": "611894ae-3dd2-4b41-8e1d-d8af441a4e39"
      },
      "source": [
        "tasks = [1, 2, 3, 4, 5, 6, 7, 8]\n",
        "deps = [[4, 2], \n",
        "      [1, 2], \n",
        "      [1, 8], \n",
        "      [6, 8], \n",
        "      [6, 3], \n",
        "      [2, 5], \n",
        "      [7, 8], \n",
        "      [2, 3], \n",
        "      [8, 7]]\n",
        "\n",
        "topological_sort(tasks, deps)"
      ],
      "execution_count": 43,
      "outputs": [
        {
          "output_type": "execute_result",
          "data": {
            "text/plain": [
              "0"
            ]
          },
          "metadata": {
            "tags": []
          },
          "execution_count": 43
        }
      ]
    },
    {
      "cell_type": "code",
      "metadata": {
        "id": "oEjdvHNcRcsQ",
        "colab_type": "code",
        "colab": {}
      },
      "source": [
        "def is_topol_ordered(ordered, tasks, deps):\n",
        "    deps_graph = {}\n",
        "    if len(ordered) != len(tasks):\n",
        "        return False\n",
        "    oSet = set()\n",
        "    tSet = set()\n",
        "    for i in range(len(tasks)):\n",
        "        oSet.add(ordered[i])\n",
        "        tSet.add(tasks[i])\n",
        "\n",
        "    if len(oSet.difference(tSet)) != 0:\n",
        "        return False\n",
        "\n",
        "    for d in deps:\n",
        "        if d[1] in deps_graph:\n",
        "            deps_graph[d[1]].append(d[0])\n",
        "        else:\n",
        "            deps_graph[d[1]] = [d[0]]\n",
        "\n",
        "    for t in ordered:\n",
        "        if t in deps_graph and len(deps_graph[t]):\n",
        "            return False\n",
        "        for d in deps_graph.values():\n",
        "            if t in d:\n",
        "                d.remove(t)\n",
        "    return True"
      ],
      "execution_count": 44,
      "outputs": []
    },
    {
      "cell_type": "code",
      "metadata": {
        "id": "sS8a7oYnR8H6",
        "colab_type": "code",
        "colab": {}
      },
      "source": [
        "def test_valid_one():\n",
        "    tasks = [4, 3, 2, 1]\n",
        "    deps = [\n",
        "        [2, 3],\n",
        "        [2, 4],\n",
        "        [4, 3],\n",
        "        [1, 3],\n",
        "        [1, 4],\n",
        "    ]\n",
        "    ordered = topological_sort(tasks, deps)\n",
        "    assert is_topol_ordered(ordered, tasks, deps) == True\n",
        "\n",
        "\n",
        "def test_valid_two():\n",
        "    tasks = [1, 2, 3, 4, 5]\n",
        "    deps = [[1, 3], [2, 3], [3, 4], [2, 5], [5, 4]]\n",
        "    ordered = topological_sort(tasks, deps)\n",
        "    assert is_topol_ordered(ordered, tasks, deps) == True\n",
        "\n",
        "\n",
        "def test_valid_three():\n",
        "    tasks = [1, 2, 3, 4, 5, 6, 7, 8]\n",
        "    deps = [[3, 1], [8, 1], [8, 7], [5, 7], [\n",
        "        5, 2], [1, 4], [1, 6], [1, 2], [7, 6]]\n",
        "    ordered = topological_sort(tasks, deps)\n",
        "    assert is_topol_ordered(ordered, tasks, deps) == True\n",
        "\n",
        "\n",
        "def test_invalid():\n",
        "    tasks = [1, 2, 3, 4, 5, 6, 7, 8]\n",
        "    deps = [[4, 2], [1, 2], [1, 8], [6, 8], [\n",
        "        6, 3], [2, 5], [7, 8], [2, 3], [8, 7]]\n",
        "    # No valid order\n",
        "    assert len(topological_sort(tasks, deps)) == 0"
      ],
      "execution_count": 53,
      "outputs": []
    },
    {
      "cell_type": "code",
      "metadata": {
        "id": "MtTceYMTSAr9",
        "colab_type": "code",
        "colab": {
          "base_uri": "https://localhost:8080/",
          "height": 85
        },
        "outputId": "a08d0dcb-49f2-4e00-a731-20619fa705d5"
      },
      "source": [
        "print(test_valid_one())\n",
        "print(test_valid_two())\n",
        "print(test_valid_three())\n",
        "print(test_invalid())"
      ],
      "execution_count": 54,
      "outputs": [
        {
          "output_type": "stream",
          "text": [
            "None\n",
            "None\n",
            "None\n",
            "None\n"
          ],
          "name": "stdout"
        }
      ]
    },
    {
      "cell_type": "code",
      "metadata": {
        "id": "wPotZBurST-9",
        "colab_type": "code",
        "colab": {}
      },
      "source": [
        "#All test cases passed. "
      ],
      "execution_count": null,
      "outputs": []
    }
  ]
}