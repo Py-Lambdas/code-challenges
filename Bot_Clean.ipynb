{
  "nbformat": 4,
  "nbformat_minor": 0,
  "metadata": {
    "colab": {
      "name": "Bot Clean.ipynb",
      "provenance": [],
      "authorship_tag": "ABX9TyMXY0ST5KIUDeo2T7f3iJ4N",
      "include_colab_link": true
    },
    "kernelspec": {
      "name": "python3",
      "display_name": "Python 3"
    }
  },
  "cells": [
    {
      "cell_type": "markdown",
      "metadata": {
        "id": "view-in-github",
        "colab_type": "text"
      },
      "source": [
        "<a href=\"https://colab.research.google.com/github/StevenBryceLee/code-challenges/blob/master/Bot_Clean.ipynb\" target=\"_parent\"><img src=\"https://colab.research.google.com/assets/colab-badge.svg\" alt=\"Open In Colab\"/></a>"
      ]
    },
    {
      "cell_type": "code",
      "metadata": {
        "id": "f-FyBlPjZ_7D",
        "colab_type": "code",
        "colab": {}
      },
      "source": [
        "#Solves botclean\n",
        "#https://www.hackerrank.com/challenges/botclean"
      ],
      "execution_count": 1,
      "outputs": []
    },
    {
      "cell_type": "code",
      "metadata": {
        "id": "2vtoINiOaRKG",
        "colab_type": "code",
        "colab": {
          "base_uri": "https://localhost:8080/",
          "height": 102
        },
        "outputId": "30882c25-831a-434c-aa34-721806b840cb"
      },
      "source": [
        "#Demonstration of splitting by copying from HackerRank website\n",
        "boardstring = '''b---d\n",
        "-d--d\n",
        "--dd-\n",
        "--d--\n",
        "----d'''.split('\\n')\n",
        "board = [list(row) for row in boardstring]\n",
        "board"
      ],
      "execution_count": 12,
      "outputs": [
        {
          "output_type": "execute_result",
          "data": {
            "text/plain": [
              "[['b', '-', '-', '-', 'd'],\n",
              " ['-', 'd', '-', '-', 'd'],\n",
              " ['-', '-', 'd', 'd', '-'],\n",
              " ['-', '-', 'd', '-', '-'],\n",
              " ['-', '-', '-', '-', 'd']]"
            ]
          },
          "metadata": {
            "tags": []
          },
          "execution_count": 12
        }
      ]
    },
    {
      "cell_type": "code",
      "metadata": {
        "id": "XFvb2G0jdA8h",
        "colab_type": "code",
        "colab": {
          "base_uri": "https://localhost:8080/",
          "height": 102
        },
        "outputId": "1b10df4f-85be-4e9e-94b7-ff0d0f1d0237"
      },
      "source": [
        "#Other board example\n",
        "newboard = '''bd---\n",
        "-d---\n",
        "---d-\n",
        "---d-\n",
        "--d-d'''.split('\\n')\n",
        "board = [list(row) for row in newboard]\n",
        "board"
      ],
      "execution_count": 34,
      "outputs": [
        {
          "output_type": "execute_result",
          "data": {
            "text/plain": [
              "[['b', 'd', '-', '-', '-'],\n",
              " ['-', 'd', '-', '-', '-'],\n",
              " ['-', '-', '-', 'd', '-'],\n",
              " ['-', '-', '-', 'd', '-'],\n",
              " ['-', '-', 'd', '-', 'd']]"
            ]
          },
          "metadata": {
            "tags": []
          },
          "execution_count": 34
        }
      ]
    },
    {
      "cell_type": "code",
      "metadata": {
        "id": "Jygg7YqoaE6A",
        "colab_type": "code",
        "colab": {
          "base_uri": "https://localhost:8080/",
          "height": 35
        },
        "outputId": "e885b71c-75b8-4303-86b3-6eea9a1af474"
      },
      "source": [
        "#First pass, does not work\n",
        "def next_move(posr, posc, board):\n",
        "  #Clean a square\n",
        "  if board[posr][posc] == 'd':\n",
        "    return 'CLEAN'\n",
        "  #Check row for dirty\n",
        "  if 'd' not in board[posr]:\n",
        "    return 'DOWN'\n",
        "  #Move in row\n",
        "  idx = board[posr].index('d')\n",
        "  condition = (board[posr].index('d') > posc)\n",
        "  board[posr][posc] = '-'\n",
        "  board[posr][(posc + 1) if condition else (posc - 1)] = 'b'\n",
        "  return ('RIGHT' if condition else 'LEFT')\n",
        "\n",
        "\n",
        "next_move(0, 0, board)"
      ],
      "execution_count": 16,
      "outputs": [
        {
          "output_type": "execute_result",
          "data": {
            "application/vnd.google.colaboratory.intrinsic+json": {
              "type": "string"
            },
            "text/plain": [
              "'RIGHT'"
            ]
          },
          "metadata": {
            "tags": []
          },
          "execution_count": 16
        }
      ]
    },
    {
      "cell_type": "code",
      "metadata": {
        "id": "7F4bHaw_M6Y-",
        "colab_type": "code",
        "colab": {
          "base_uri": "https://localhost:8080/",
          "height": 136
        },
        "outputId": "e460890e-e7fe-4099-c170-11e7f7099f9c"
      },
      "source": [
        "def next_move(posr, posc, board):\n",
        "  '''\n",
        "  This function returns the next given move based on the current state of the board\n",
        "\n",
        "  In order to run this on a simulator, also returns the new position and board\n",
        "  Uncomment the print statements to run on hackerRank \n",
        "\n",
        "  returns the next move as a string, the row position and column position in a tuple,\n",
        "  and the current board\n",
        "  '''\n",
        "  #Clean a square\n",
        "  if board[posr][posc] == 'd':\n",
        "    board[posr][posc] = 'b'\n",
        "    #print('CLEAN')\n",
        "    return ('CLEAN',(posr,posc),board)\n",
        "  #Check row for dirty\n",
        "  if 'd' not in board[posr]:\n",
        "    board[posr][posc] = '-'\n",
        "    if board[posr+1][posc] != 'd':\n",
        "      board[posr+1][posc] = 'b'\n",
        "    #print('DOWN')\n",
        "    return ('DOWN',(posr+1,posc),board)\n",
        "  #Move in row\n",
        "  idx = board[posr].index('d')\n",
        "  condition = (board[posr].index('d') > posc)\n",
        "  board[posr][posc] = '-'\n",
        "  if board[posr][(posc + 1) if condition else (posc - 1)] != 'd':\n",
        "    board[posr][(posc + 1) if condition else (posc - 1)] = 'b'\n",
        "  #print('RIGHT' if condition else 'LEFT')\n",
        "  return (('RIGHT',(posr,posc+1),board) if condition else ('LEFT',(posr,posc-1),board))\n",
        "\n",
        "next_move(0, 0, board)"
      ],
      "execution_count": 37,
      "outputs": [
        {
          "output_type": "execute_result",
          "data": {
            "text/plain": [
              "('RIGHT',\n",
              " (0, 1),\n",
              " [['-', 'd', '-', '-', '-'],\n",
              "  ['-', 'd', '-', '-', '-'],\n",
              "  ['-', '-', '-', 'd', '-'],\n",
              "  ['-', '-', '-', 'd', '-'],\n",
              "  ['-', '-', 'd', '-', 'd']])"
            ]
          },
          "metadata": {
            "tags": []
          },
          "execution_count": 37
        }
      ]
    },
    {
      "cell_type": "code",
      "metadata": {
        "id": "e2QTeV04cztS",
        "colab_type": "code",
        "colab": {}
      },
      "source": [
        "def checkDone(board):\n",
        "  '''\n",
        "  Check if the game is done\n",
        "\n",
        "  takes a 2D array of the board as an input\n",
        "\n",
        "  returns True if there are no more dirty cells\n",
        "  '''\n",
        "  for row in board:\n",
        "    if 'd' in row:\n",
        "      return False\n",
        "  return True\n",
        "\n",
        "def printBoard(board):\n",
        "  #Helper function\n",
        "  for row in board:\n",
        "    print(row)\n",
        "\n",
        "def simulation(board):\n",
        "  '''\n",
        "  Simulate the game\n",
        "\n",
        "  Keeps running next_move until checkdown returns True\n",
        "  '''\n",
        "  positions = (0,0)\n",
        "  while (not checkDone(board)):\n",
        "    move,positions,board = next_move(positions[0],positions[1],board)\n",
        "    print(move)\n",
        "    print(positions)\n",
        "    printBoard(board)"
      ],
      "execution_count": 30,
      "outputs": []
    },
    {
      "cell_type": "code",
      "metadata": {
        "id": "PXCeTkk7PYw9",
        "colab_type": "code",
        "colab": {
          "base_uri": "https://localhost:8080/",
          "height": 1000
        },
        "outputId": "e1301edf-8608-4b24-e813-2ae5dd3f311b"
      },
      "source": [
        "newboard = '''bd---\n",
        "-d---\n",
        "---d-\n",
        "---d-\n",
        "--d-d'''.split('\\n')\n",
        "board = [list(row) for row in newboard]\n",
        "printBoard(board)\n",
        "simulation(board)"
      ],
      "execution_count": 32,
      "outputs": [
        {
          "output_type": "stream",
          "text": [
            "RIGHT\n",
            "(0, 1)\n",
            "['-', 'd', '-', '-', '-']\n",
            "['-', 'd', '-', '-', '-']\n",
            "['-', '-', '-', 'd', '-']\n",
            "['-', '-', '-', 'd', '-']\n",
            "['-', '-', 'd', '-', 'd']\n",
            "CLEAN\n",
            "(0, 1)\n",
            "['-', 'b', '-', '-', '-']\n",
            "['-', 'd', '-', '-', '-']\n",
            "['-', '-', '-', 'd', '-']\n",
            "['-', '-', '-', 'd', '-']\n",
            "['-', '-', 'd', '-', 'd']\n",
            "DOWN\n",
            "(1, 1)\n",
            "['-', '-', '-', '-', '-']\n",
            "['-', 'd', '-', '-', '-']\n",
            "['-', '-', '-', 'd', '-']\n",
            "['-', '-', '-', 'd', '-']\n",
            "['-', '-', 'd', '-', 'd']\n",
            "CLEAN\n",
            "(1, 1)\n",
            "['-', '-', '-', '-', '-']\n",
            "['-', 'b', '-', '-', '-']\n",
            "['-', '-', '-', 'd', '-']\n",
            "['-', '-', '-', 'd', '-']\n",
            "['-', '-', 'd', '-', 'd']\n",
            "DOWN\n",
            "(2, 1)\n",
            "['-', '-', '-', '-', '-']\n",
            "['-', '-', '-', '-', '-']\n",
            "['-', 'b', '-', 'd', '-']\n",
            "['-', '-', '-', 'd', '-']\n",
            "['-', '-', 'd', '-', 'd']\n",
            "RIGHT\n",
            "(2, 2)\n",
            "['-', '-', '-', '-', '-']\n",
            "['-', '-', '-', '-', '-']\n",
            "['-', '-', 'b', 'd', '-']\n",
            "['-', '-', '-', 'd', '-']\n",
            "['-', '-', 'd', '-', 'd']\n",
            "RIGHT\n",
            "(2, 3)\n",
            "['-', '-', '-', '-', '-']\n",
            "['-', '-', '-', '-', '-']\n",
            "['-', '-', '-', 'd', '-']\n",
            "['-', '-', '-', 'd', '-']\n",
            "['-', '-', 'd', '-', 'd']\n",
            "CLEAN\n",
            "(2, 3)\n",
            "['-', '-', '-', '-', '-']\n",
            "['-', '-', '-', '-', '-']\n",
            "['-', '-', '-', 'b', '-']\n",
            "['-', '-', '-', 'd', '-']\n",
            "['-', '-', 'd', '-', 'd']\n",
            "DOWN\n",
            "(3, 3)\n",
            "['-', '-', '-', '-', '-']\n",
            "['-', '-', '-', '-', '-']\n",
            "['-', '-', '-', '-', '-']\n",
            "['-', '-', '-', 'd', '-']\n",
            "['-', '-', 'd', '-', 'd']\n",
            "CLEAN\n",
            "(3, 3)\n",
            "['-', '-', '-', '-', '-']\n",
            "['-', '-', '-', '-', '-']\n",
            "['-', '-', '-', '-', '-']\n",
            "['-', '-', '-', 'b', '-']\n",
            "['-', '-', 'd', '-', 'd']\n",
            "DOWN\n",
            "(4, 3)\n",
            "['-', '-', '-', '-', '-']\n",
            "['-', '-', '-', '-', '-']\n",
            "['-', '-', '-', '-', '-']\n",
            "['-', '-', '-', '-', '-']\n",
            "['-', '-', 'd', 'b', 'd']\n",
            "LEFT\n",
            "(4, 2)\n",
            "['-', '-', '-', '-', '-']\n",
            "['-', '-', '-', '-', '-']\n",
            "['-', '-', '-', '-', '-']\n",
            "['-', '-', '-', '-', '-']\n",
            "['-', '-', 'd', '-', 'd']\n",
            "CLEAN\n",
            "(4, 2)\n",
            "['-', '-', '-', '-', '-']\n",
            "['-', '-', '-', '-', '-']\n",
            "['-', '-', '-', '-', '-']\n",
            "['-', '-', '-', '-', '-']\n",
            "['-', '-', 'b', '-', 'd']\n",
            "RIGHT\n",
            "(4, 3)\n",
            "['-', '-', '-', '-', '-']\n",
            "['-', '-', '-', '-', '-']\n",
            "['-', '-', '-', '-', '-']\n",
            "['-', '-', '-', '-', '-']\n",
            "['-', '-', '-', 'b', 'd']\n",
            "RIGHT\n",
            "(4, 4)\n",
            "['-', '-', '-', '-', '-']\n",
            "['-', '-', '-', '-', '-']\n",
            "['-', '-', '-', '-', '-']\n",
            "['-', '-', '-', '-', '-']\n",
            "['-', '-', '-', '-', 'd']\n",
            "CLEAN\n",
            "(4, 4)\n",
            "['-', '-', '-', '-', '-']\n",
            "['-', '-', '-', '-', '-']\n",
            "['-', '-', '-', '-', '-']\n",
            "['-', '-', '-', '-', '-']\n",
            "['-', '-', '-', '-', 'b']\n"
          ],
          "name": "stdout"
        }
      ]
    },
    {
      "cell_type": "code",
      "metadata": {
        "id": "zm3bNz0CPjxV",
        "colab_type": "code",
        "colab": {}
      },
      "source": [
        ""
      ],
      "execution_count": null,
      "outputs": []
    }
  ]
}